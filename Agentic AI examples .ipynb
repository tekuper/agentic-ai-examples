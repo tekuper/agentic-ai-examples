{
 "cells": [
  {
   "cell_type": "markdown",
   "id": "f6b396c3-0ad1-42f7-ba11-78bdc8caa3e9",
   "metadata": {},
   "source": [
    "### What is Agentic AI??"
   ]
  },
  {
   "cell_type": "code",
   "execution_count": null,
   "id": "ae452df2-978f-486a-ae03-19bdc72cbf5b",
   "metadata": {},
   "outputs": [],
   "source": [
    "# Traditional AI: Suggests a meeting time\n",
    "def suggest_meeting(calendar):\n",
    "    available_slots = [slot for slot in calendar if slot['available']]\n",
    "    return available_slots\n",
    "\n",
    "# Agentic AI: Books the meeting\n",
    "def book_meeting(agent, calendar, participants):\n",
    "    available_slots = [slot for slot in calendar if slot['available']]\n",
    "    if available_slots:\n",
    "        slot = available_slots[0]  # Choose the first available slot\n",
    "        agent.schedule_meeting(slot, participants)\n",
    "        print(f\"Meeting booked at {slot['time']}\")\n",
    "    else:\n",
    "        print(\"No available slots!\")\n"
   ]
  },
  {
   "cell_type": "markdown",
   "id": "ecc0b485-e632-44a8-9af5-e07885ac04e1",
   "metadata": {},
   "source": [
    "### The Building Blocks of Agentic AI"
   ]
  },
  {
   "cell_type": "code",
   "execution_count": null,
   "id": "0c465690-f75a-4825-b8e8-112f696cfa4a",
   "metadata": {},
   "outputs": [],
   "source": [
    "# Reasoning: Break down a task into steps\n",
    "def plan_meeting(agent, calendar, participants):\n",
    "    steps = [\"Check calendar\", \"Find a time slot\", \"Notify participants\"]\n",
    "    for step in steps:\n",
    "        print(f\"Executing step: {step}\")\n",
    "        agent.execute_step(step, calendar, participants)\n",
    "\n",
    "# Acting: Perform the planned actions\n",
    "class AI_Agent:\n",
    "    def execute_step(self, step, calendar, participants):\n",
    "        if step == \"Check calendar\":\n",
    "            self.available_slots = [slot for slot in calendar if slot['available']]\n",
    "        elif step == \"Find a time slot\":\n",
    "            self.selected_slot = self.available_slots[0] if self.available_slots else None\n",
    "        elif step == \"Notify participants\":\n",
    "            if self.selected_slot:\n",
    "                print(f\"Meeting confirmed for {self.selected_slot['time']} with {participants}\")\n"
   ]
  },
  {
   "cell_type": "markdown",
   "id": "fb031a4e-56f9-49b0-af01-8bdf45b3fe2d",
   "metadata": {},
   "source": [
    " ### How Does Agentic AI Work?"
   ]
  },
  {
   "cell_type": "code",
   "execution_count": null,
   "id": "8050b04d-7855-4ed5-b8fb-5374ea7ed7fd",
   "metadata": {},
   "outputs": [],
   "source": [
    "class AgenticAI:\n",
    "    def __init__(self):\n",
    "        self.state = {}\n",
    "\n",
    "    def plan(self, task):\n",
    "        print(f\"Planning: {task}\")\n",
    "        self.state['task'] = task\n",
    "\n",
    "    def act(self):\n",
    "        print(f\"Acting on: {self.state['task']}\")\n",
    "        self.state['result'] = \"Success\"  # Mock result\n",
    "\n",
    "    def observe(self):\n",
    "        print(f\"Observing results: {self.state['result']}\")\n",
    "        return self.state['result']\n",
    "\n",
    "    def refine(self, feedback):\n",
    "        print(f\"Refining based on feedback: {feedback}\")\n",
    "        if feedback != \"Success\":\n",
    "            self.state['task'] += \" (adjusted)\"\n",
    "\n",
    "# Example\n",
    "agent = AgenticAI()\n",
    "agent.plan(\"Schedule a meeting\")\n",
    "agent.act()\n",
    "result = agent.observe()\n",
    "agent.refine(result)\n"
   ]
  },
  {
   "cell_type": "markdown",
   "id": "22af91aa-bd37-4eb2-aca3-305d50f6ca8f",
   "metadata": {},
   "source": [
    "### The Role of Control Logic"
   ]
  },
  {
   "cell_type": "code",
   "execution_count": null,
   "id": "880bb7a7-7b2a-4186-bc69-4eaab3519fe3",
   "metadata": {},
   "outputs": [],
   "source": [
    "# Programmatic Control: Predefined steps\n",
    "def count_items_in_stock(stock):\n",
    "    return sum(stock.values())\n",
    "\n",
    "# Agentic Control: Adaptive decision-making\n",
    "class SupplyChainAgent:\n",
    "    def __init__(self):\n",
    "        self.stock_levels = {}\n",
    "\n",
    "    def check_stock(self, item):\n",
    "        return self.stock_levels.get(item, 0)\n",
    "\n",
    "    def restock(self, item, quantity):\n",
    "        if self.check_stock(item) < 10:  # Threshold for low stock\n",
    "            print(f\"Restocking {quantity} units of {item}\")\n",
    "            self.stock_levels[item] = self.stock_levels.get(item, 0) + quantity\n"
   ]
  },
  {
   "cell_type": "markdown",
   "id": "e143b0f4-a16c-4737-a6e7-fc25646278a5",
   "metadata": {},
   "source": [
    "### Going Beyond language Processing "
   ]
  },
  {
   "cell_type": "code",
   "execution_count": null,
   "id": "ba857631-435d-4eac-a52f-cd22e0ef4388",
   "metadata": {},
   "outputs": [],
   "source": [
    "# Example: AI using external tools\n",
    "import requests\n",
    "\n",
    "class SmartAgent:\n",
    "    def fetch_weather(self, location):\n",
    "        print(f\"Fetching weather for {location}\")\n",
    "        # Mock API call\n",
    "        return {\"location\": location, \"temperature\": 22, \"condition\": \"Sunny\"}\n",
    "\n",
    "    def adapt_to_weather(self, weather_data):\n",
    "        if weather_data['temperature'] < 15:\n",
    "            return \"Wear a jacket\"\n",
    "        elif weather_data['temperature'] > 30:\n",
    "            return \"Stay hydrated\"\n",
    "        else:\n",
    "            return \"Enjoy the day!\"\n",
    "\n",
    "agent = SmartAgent()\n",
    "weather = agent.fetch_weather(\"Paris\")\n",
    "advice = agent.adapt_to_weather(weather)\n",
    "print(f\"Advice: {advice}\")\n"
   ]
  },
  {
   "cell_type": "markdown",
   "id": "68805b9b-7bf2-415a-82b8-88226c6d7c9d",
   "metadata": {},
   "source": [
    "### Where Can We Use Agentic AI?"
   ]
  },
  {
   "cell_type": "markdown",
   "id": "44233e8d-7be4-43e4-8c17-1063c200df0c",
   "metadata": {},
   "source": [
    "#### Healthcare Example: Automatic Appointment Scheduling"
   ]
  },
  {
   "cell_type": "code",
   "execution_count": null,
   "id": "9b3e618b-a250-473d-94d5-01a83d39a2bb",
   "metadata": {},
   "outputs": [],
   "source": [
    "class HealthcareAgent:\n",
    "    def schedule_appointment(self, patient, doctor, time):\n",
    "        print(f\"Appointment scheduled for {patient} with Dr. {doctor} at {time}\")\n",
    "\n",
    "agent = HealthcareAgent()\n",
    "agent.schedule_appointment(\"John Doe\", \"Smith\", \"10:00 AM\")"
   ]
  },
  {
   "cell_type": "markdown",
   "id": "946d4d08-6837-439d-b3d1-11bbb737e4b5",
   "metadata": {},
   "source": []
  }
 ],
 "metadata": {
  "kernelspec": {
   "display_name": "Python 3 (ipykernel)",
   "language": "python",
   "name": "python3"
  },
  "language_info": {
   "codemirror_mode": {
    "name": "ipython",
    "version": 3
   },
   "file_extension": ".py",
   "mimetype": "text/x-python",
   "name": "python",
   "nbconvert_exporter": "python",
   "pygments_lexer": "ipython3",
   "version": "3.12.4"
  }
 },
 "nbformat": 4,
 "nbformat_minor": 5
}
